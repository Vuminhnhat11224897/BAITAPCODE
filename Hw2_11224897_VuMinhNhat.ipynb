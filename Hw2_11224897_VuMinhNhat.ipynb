{
 "cells": [
  {
   "cell_type": "markdown",
   "metadata": {},
   "source": [
    "### Họ và Tên : Vũ Minh Nhật\n",
    "### Lớp : DSEB 64A\n",
    "### ID : 11224897\n"
   ]
  },
  {
   "cell_type": "markdown",
   "metadata": {},
   "source": []
  },
  {
   "cell_type": "code",
   "execution_count": 1,
   "metadata": {},
   "outputs": [
    {
     "name": "stdout",
     "output_type": "stream",
     "text": [
      "False\n"
     ]
    }
   ],
   "source": [
    "#BAI1\n",
    "print(0.1 + 0.1 +0.1 == 0.3)\n",
    "#Bởi vì 0.1 + 0.1 + 0.1 không có biểu diễn nhị phân chính xác vậy nên kết quả có thể = 0.3000004 không hoàn toàn = 0.3s"
   ]
  },
  {
   "cell_type": "code",
   "execution_count": 6,
   "metadata": {},
   "outputs": [
    {
     "name": "stdout",
     "output_type": "stream",
     "text": [
      "7\n",
      "12\n",
      "1\n",
      "1\n",
      "1\n"
     ]
    }
   ],
   "source": [
    "#BAI2\n",
    "a, b = map(int , input().split())\n",
    "print(a + b)\n",
    "print(a * b)\n",
    "print(a - b)\n",
    "print(a // b)\n",
    "print(a % b)"
   ]
  },
  {
   "cell_type": "code",
   "execution_count": 1,
   "metadata": {},
   "outputs": [
    {
     "name": "stdout",
     "output_type": "stream",
     "text": [
      "9\n"
     ]
    }
   ],
   "source": [
    "#BAI3\n",
    "a, b = map(int, input().split())\n",
    "print(a * b)"
   ]
  },
  {
   "cell_type": "code",
   "execution_count": 1,
   "metadata": {},
   "outputs": [
    {
     "name": "stdout",
     "output_type": "stream",
     "text": [
      "28.274333882308138\n",
      "113.09733552923255\n"
     ]
    }
   ],
   "source": [
    "#BAI4\n",
    "from math import*\n",
    "r = float(input())\n",
    "c = pi * r**2\n",
    "v = (4 * pi * r**3) / 3\n",
    "print(c)\n",
    "print(v)"
   ]
  },
  {
   "cell_type": "code",
   "execution_count": 1,
   "metadata": {},
   "outputs": [
    {
     "name": "stdout",
     "output_type": "stream",
     "text": [
      "55\n"
     ]
    }
   ],
   "source": [
    "#BAI5\n",
    "n = int(input())\n",
    "sum = 0\n",
    "for i in range(n) :\n",
    "    sum += i + 1\n",
    "print(sum)"
   ]
  },
  {
   "cell_type": "code",
   "execution_count": 194,
   "metadata": {},
   "outputs": [
    {
     "name": "stdout",
     "output_type": "stream",
     "text": [
      "93784\n"
     ]
    }
   ],
   "source": [
    "#BAI 6\n",
    "days, hours, minutes, seconds = map(int, input().split())\n",
    "print(days * 24 * 60 * 60 + hours * 60 * 60 + minutes * 60 + seconds)"
   ]
  },
  {
   "cell_type": "code",
   "execution_count": 7,
   "metadata": {},
   "outputs": [
    {
     "name": "stdout",
     "output_type": "stream",
     "text": [
      "['My', 'name', 'is', 'Kelly']\n",
      "10 400\n",
      "20 300\n",
      "30 200\n",
      "40 100\n",
      "[10, 20, [300, 400, [5000, 6000, 7000], 500], 30, 40]\n",
      "['a', 'b', ['c', ['d', 'e', ['f', 'g', 'h', 'i', 'j'], 'k'], 'l'], 'm', 'n']\n",
      "[5, 15, 25, 50]\n"
     ]
    }
   ],
   "source": [
    "#BAI7\n",
    "#a\n",
    "list1 = [\"M\", \"na\", \"i\", \"Ke\"]; list2 = [\"y\", \"me\", \"s\", \"lly\"]\n",
    "list3 = []\n",
    "for i in range(4):\n",
    "    list3.append(list1[i] + list2[i])\n",
    "print(list3)\n",
    "#b \n",
    "list1 = [10, 20, 30, 40] \n",
    "list2 = [100, 200, 300, 400]\n",
    "list2.reverse()\n",
    "for i in range(4):\n",
    "    print(list1[i], list2[i])\n",
    "\n",
    "#c\n",
    "list4 = [10, 20, [300, 400, [5000, 6000], 500], 30, 40]\n",
    "list4[2][2].append(7000)\n",
    "print(list4)\n",
    "#d\n",
    "list5 = [\"a\", \"b\", [\"c\", [\"d\", \"e\", [\"f\", \"g\"], \"k\"], \"l\"], \"m\", \"n\"]\n",
    "list5[2][1][2].append('h')\n",
    "list5[2][1][2].append('i')\n",
    "list5[2][1][2].append('j')\n",
    "print(list5)\n",
    "#e\n",
    "list6 = [5, 20, 15, 20, 25, 50, 20]\n",
    "t = 0\n",
    "for i in range(0, len(list6)) :\n",
    "    if list6[i] == 20 : \n",
    "        list6[i] = -1\n",
    "        t += 1\n",
    "list6.sort()\n",
    "for i in range (t) :\n",
    "    list6.pop(0)\n",
    "print(list6)"
   ]
  },
  {
   "cell_type": "code",
   "execution_count": 165,
   "metadata": {},
   "outputs": [
    {
     "name": "stdout",
     "output_type": "stream",
     "text": [
      "3.1666666666666665\n",
      "3.1333333333333333\n",
      "3.145238095238095\n",
      "3.1396825396825396\n",
      "3.1427128427128426\n",
      "3.1408813408813407\n",
      "3.142071817071817\n",
      "3.1412548236077646\n",
      "3.141839618929402\n",
      "3.1414067184965018\n",
      "3.1417360992606653\n",
      "3.141479689004255\n",
      "3.1416831892077552\n",
      "3.1415189855952756\n",
      "3.141653394197426\n"
     ]
    }
   ],
   "source": [
    "#BAI8\n",
    "def tinh(a) :\n",
    "    return a * (a + 1) * (a + 2)\n",
    "sum = 0\n",
    "for i in range(2, 32, 2) :\n",
    "    #print(i)\n",
    "    if((i / 2) % 2 == 1) :\n",
    "        sum += (4 / tinh(i))\n",
    "    else : sum -= (4 / tinh(i))\n",
    "    print((sum) + 3)\n"
   ]
  },
  {
   "cell_type": "code",
   "execution_count": 193,
   "metadata": {},
   "outputs": [
    {
     "name": "stdout",
     "output_type": "stream",
     "text": [
      "0.693146680575671\n",
      "0.6931471805599208\n"
     ]
    }
   ],
   "source": [
    "#BAI9\n",
    "#a\n",
    "def f(a) :\n",
    "    return float(1 / a)\n",
    "#n = int(input())\n",
    "n = 1000000\n",
    "a = 2\n",
    "b = 1\n",
    "k = (a - b) / n\n",
    "sum = k / 2 * (f(1) + f(2))\n",
    "t = b + k \n",
    "for i in range(n - 2) :\n",
    "    sum += k * (f(t))\n",
    "    t += k\n",
    "print(sum)\n",
    "#b\n",
    "b = 2\n",
    "a = 1\n",
    "n1 = 1000000\n",
    "h = float((b - a) / n1)\n",
    "sum = h * (f(a) + f(b)) * (1 / 3)\n",
    "for i in range(1, n1) :\n",
    "    #print(a + i * h)\n",
    "    if i % 2 == 1:\n",
    "        sum += (4 / 3) * h * f(a + i * h)\n",
    "    else : sum += (2 / 3) * h * f(a + i * h)\n",
    "print(sum)\n"
   ]
  }
 ],
 "metadata": {
  "kernelspec": {
   "display_name": "Python 3",
   "language": "python",
   "name": "python3"
  },
  "language_info": {
   "codemirror_mode": {
    "name": "ipython",
    "version": 3
   },
   "file_extension": ".py",
   "mimetype": "text/x-python",
   "name": "python",
   "nbconvert_exporter": "python",
   "pygments_lexer": "ipython3",
   "version": "3.9.5"
  },
  "orig_nbformat": 4
 },
 "nbformat": 4,
 "nbformat_minor": 2
}
