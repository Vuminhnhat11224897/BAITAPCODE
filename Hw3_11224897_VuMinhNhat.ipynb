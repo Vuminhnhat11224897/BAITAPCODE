{
 "cells": [
  {
   "cell_type": "markdown",
   "metadata": {},
   "source": [
    "### Họ và Tên : Vũ Minh Nhật\n",
    "### Lớp : DSEB 64A\n",
    "### ID : 11224897"
   ]
  },
  {
   "cell_type": "code",
   "execution_count": 9,
   "metadata": {},
   "outputs": [
    {
     "name": "stdout",
     "output_type": "stream",
     "text": [
      "18\n",
      "[1, 3, 5, 7, 9]\n",
      "[9, 7, 6, 5, 4, 3, 2, 1]\n"
     ]
    }
   ],
   "source": [
    "#BAI1\n",
    "num = input().split(' ')\n",
    "nums = [int(x) for x in num]\n",
    "#a\n",
    "sum_div3 = 0\n",
    "for x in nums:\n",
    "    if x % 3 == 0:\n",
    "        sum_div3 += x\n",
    "print(sum_div3)\n",
    "#b\n",
    "odd = []\n",
    "for x in nums:\n",
    "    if x % 2 == 1:\n",
    "        odd.append(x)\n",
    "print(odd)\n",
    "#c\n",
    "nums.sort(reverse= True)\n",
    "print(nums)"
   ]
  },
  {
   "cell_type": "code",
   "execution_count": 149,
   "metadata": {},
   "outputs": [
    {
     "name": "stdout",
     "output_type": "stream",
     "text": [
      "'Charlie', 100\n"
     ]
    }
   ],
   "source": [
    "#BAI2\n",
    "name = input().split('), (')\n",
    "nums = [str(x) for x in name]\n",
    "nums1 = []\n",
    "maxx = -1\n",
    "ten = ' '\n",
    "for x in nums :\n",
    "    nums1.append(x.split(\", \"))\n",
    "nums1[0][0] = nums1[0][0].replace('[(', '')\n",
    "nums1[19][1] = nums1[19][1].replace(')]', '')\n",
    "for i in range (20) :\n",
    "   if int(nums1[i][1]) > maxx :\n",
    "        maxx = int(nums1[i][1])\n",
    "        ten = nums[i]\n",
    "print(ten)"
   ]
  },
  {
   "cell_type": "code",
   "execution_count": 16,
   "metadata": {},
   "outputs": [
    {
     "name": "stdout",
     "output_type": "stream",
     "text": [
      "{0, 1, 2, 3, 4, 5, 6}\n",
      "{2, 4}\n",
      "{1, 3, 5}\n"
     ]
    }
   ],
   "source": [
    "#BAI3\n",
    "set1 = {1, 2, 3, 4, 5, 2}\n",
    "set2 = {0, 2, 6, 2, 4, 2}\n",
    "set4 = set()\n",
    "print(set1 | set2)\n",
    "print(set1 & set2)\n",
    "for i in set1:\n",
    "    dem = 0\n",
    "    for j in set2:\n",
    "        if i == j :\n",
    "            dem += 1\n",
    "    if dem == 0:\n",
    "        set4.add(i)\n",
    "print(set4)"
   ]
  },
  {
   "cell_type": "code",
   "execution_count": 163,
   "metadata": {},
   "outputs": [
    {
     "name": "stdout",
     "output_type": "stream",
     "text": [
      "2\n",
      "4\n",
      "8\n",
      "10\n",
      "14\n",
      "16\n",
      "20\n"
     ]
    }
   ],
   "source": [
    "#BAI4\n",
    "list1 = [i + 1 for i in range(20)]\n",
    "for i in list1 :\n",
    "    if i % 2 == 0 and i % 3 != 0 :\n",
    "        print(i)"
   ]
  },
  {
   "cell_type": "code",
   "execution_count": 11,
   "metadata": {},
   "outputs": [
    {
     "name": "stdout",
     "output_type": "stream",
     "text": [
      "Số nguyên tố\n"
     ]
    }
   ],
   "source": [
    "#BAI5\n",
    "#import sys\n",
    "n = int(input())\n",
    "def check(n) :\n",
    "    dem = 0\n",
    "    if n == 2 : \n",
    "        print('Số nguyên tố') \n",
    "        return \n",
    "    if n < 2 : \n",
    "        print('Không là số nguyên tố số ước =', 1) \n",
    "        return \n",
    "    for i in range(2, n) :\n",
    "        if n % i == 0 :\n",
    "            dem += 1\n",
    "    if dem == 0 : \n",
    "        print('Số nguyên tố') \n",
    "        return \n",
    "    print('Không là số nguyên tố số ước =', dem + 2)\n",
    "check(n)"
   ]
  },
  {
   "cell_type": "code",
   "execution_count": 15,
   "metadata": {},
   "outputs": [
    {
     "name": "stdout",
     "output_type": "stream",
     "text": [
      "[4, 16, 36, 64, 100, 144, 196, 256, 324, 400, 484, 576, 676, 784, 900, 1024, 1156, 1296, 1444, 1600, 1764, 1936, 2116, 2304, 2500]\n",
      "[4, 9, 25, 49, 121, 169, 289, 361, 529, 841, 961, 1369, 1681, 1849, 2209]\n"
     ]
    }
   ],
   "source": [
    "#BAI6\n",
    "def check1(n):\n",
    "    dem = 0\n",
    "    if n == 2 : \n",
    "        return 1\n",
    "    if n < 2 : \n",
    "        return 0\n",
    "    for i in range(2, n) :\n",
    "        if n % i == 0 :\n",
    "            return 0\n",
    "    return 1\n",
    "list12 = [i + 1 for i in range(50)]\n",
    "listeven = []\n",
    "listprime = []\n",
    "for i in list12 :\n",
    "    if check1(i) : listprime.append(i * i)\n",
    "    if i % 2 == 0 : listeven.append(i * i)\n",
    "print(listeven)\n",
    "print(listprime)"
   ]
  },
  {
   "cell_type": "code",
   "execution_count": 3,
   "metadata": {},
   "outputs": [
    {
     "name": "stdout",
     "output_type": "stream",
     "text": [
      "{32, 4, 36, 8, 40, 12, 44, 16, 48, 20, 28}\n"
     ]
    }
   ],
   "source": [
    "#BAI7\n",
    "import random\n",
    "a = set()\n",
    "b = set()\n",
    "for i in range(100):\n",
    "    a.add(random.randint(1, 50))\n",
    "    b.add(random.randint(1, 50))\n",
    "c = set()\n",
    "c = a & b   \n",
    "d = set()\n",
    "for i in c :\n",
    "    if i % 4 == 0:\n",
    "        d.add(i)\n",
    "print(d)"
   ]
  },
  {
   "cell_type": "code",
   "execution_count": 39,
   "metadata": {},
   "outputs": [
    {
     "name": "stdout",
     "output_type": "stream",
     "text": [
      "Emily Johnson\n"
     ]
    }
   ],
   "source": [
    "#BAI8\n",
    "student = ['John Smith', 'Emily Johnson', 'Michael Williams', 'Jessica Brown', 'David Jones', 'Sophia Davis', 'Daniel Martinez', 'Olivia Miller', 'James Wilson', 'Emma Taylor']\n",
    "scores = [[85, 78, 92, 88, 76, 90, 87, 89], [92, 86, 78, 94, 89, 91, 85, 82], [75, 80, 88, 84, 79, 92, 86, 90], [89, 92, 75, 81, 87, 79, 84, 88], [78, 81, 89, 93, 85, 90, 88, 82], [92, 85, 78, 90, 83, 89, 87, 91], [86, 91, 75, 80, 88, 84, 82, 89], [78, 84, 89, 92, 86, 91, 83, 80], [90, 88, 82, 79, 91, 76, 83, 85], [87, 80, 91, 85, 78, 92, 89, 84]]\n",
    "avr = []\n",
    "for i in range(len(scores)) :\n",
    "    tong = 0\n",
    "    for j in range(len(scores[i])) :\n",
    "        tong += scores[i][j]\n",
    "    avr.append(tong / 8) \n",
    "#print(avr)\n",
    "maxx = -1\n",
    "cs = -1\n",
    "for i in range(10):\n",
    "    if avr[i] > maxx :\n",
    "        maxx = avr[i]\n",
    "        cs = i\n",
    "print(student[cs])"
   ]
  },
  {
   "cell_type": "code",
   "execution_count": 38,
   "metadata": {},
   "outputs": [
    {
     "name": "stdout",
     "output_type": "stream",
     "text": [
      "*          *\n",
      "*          *\n",
      "*          *\n",
      "*          *\n",
      "*          *\n",
      "*          *\n",
      "************"
     ]
    }
   ],
   "source": [
    "#BAI9\n",
    "chieucao = int(input())\n",
    "for i in range (chieucao) :\n",
    "    print('*', ''.ljust(chieucao * 2 - 4), '*')\n",
    "for i in range (chieucao * 2) :\n",
    "    print('*', end = '')\n",
    "        "
   ]
  },
  {
   "cell_type": "code",
   "execution_count": 44,
   "metadata": {},
   "outputs": [
    {
     "name": "stdout",
     "output_type": "stream",
     "text": [
      "avr temperatures của week 0 : 28.571428571428573\n",
      "avr temperatures của week 1 : 28.714285714285715\n",
      "avr temperatures của week 2 : 27.428571428571427\n",
      "avr temperatures của week 3 : 30.714285714285715\n",
      "avr temperatures của week 4 : 31.571428571428573\n",
      "avr temperatures của week 5 : 28.571428571428573\n",
      "avr temperatures của week 6 : 28.714285714285715\n",
      "avr temperatures của week 7 : 27.428571428571427\n",
      "avr temperatures của week 8 : 30.714285714285715\n",
      "avr temperatures của week 9 : 31.571428571428573\n",
      "Số ngày lớn hơn 30 độ : 24\n",
      "Có ngày nhiệt độ cao hơn 33\n"
     ]
    }
   ],
   "source": [
    "#BAI10\n",
    "temperatures = [\n",
    "\n",
    "    [28, 30, 31, 29, 27, 26, 29],  # Temperatures for Week 1\n",
    "\n",
    "    [29, 31, 32, 28, 26, 25, 30],  # Temperatures for Week 2\n",
    "\n",
    "    [27, 29, 30, 28, 26, 24, 28],  # Temperatures for Week 3\n",
    "\n",
    "    [30, 32, 33, 31, 29, 28, 32],  # Temperatures for Week 4\n",
    "\n",
    "    [31, 33, 34, 32, 30, 28, 33],  # Temperatures for Week 5\n",
    "\n",
    "    [28, 30, 31, 29, 27, 26, 29],  # Temperatures for Week 6\n",
    "\n",
    "    [29, 31, 32, 28, 26, 25, 30],  # Temperatures for Week 7\n",
    "\n",
    "    [27, 29, 30, 28, 26, 24, 28],  # Temperatures for Week 8\n",
    "\n",
    "    [30, 32, 33, 31, 29, 28, 32],  # Temperatures for Week 9\n",
    "\n",
    "    [31, 33, 34, 32, 30, 28, 33]   # Temperatures for Week 10\n",
    "\n",
    "]\n",
    "dem = 0\n",
    "dem1 = 1\n",
    "for i in range(len(temperatures)):\n",
    "    tong = 0\n",
    "    for j in range(7) :\n",
    "        tong += temperatures[i][j]\n",
    "        if temperatures[i][j] > 30 : dem += 1\n",
    "        if temperatures[i][j] > 33 : dem1 += 1\n",
    "    print('avr temperatures của week', i, ':', tong / 7)\n",
    "print('Số ngày lớn hơn 30 độ :', dem)\n",
    "if dem1 > 0 : print('Có ngày nhiệt độ cao hơn 33')\n",
    "else : print('Không có ngày nào nhiệt độ cao hơn 33')"
   ]
  },
  {
   "cell_type": "code",
   "execution_count": null,
   "metadata": {},
   "outputs": [],
   "source": []
  }
 ],
 "metadata": {
  "kernelspec": {
   "display_name": "Python 3",
   "language": "python",
   "name": "python3"
  },
  "language_info": {
   "codemirror_mode": {
    "name": "ipython",
    "version": 3
   },
   "file_extension": ".py",
   "mimetype": "text/x-python",
   "name": "python",
   "nbconvert_exporter": "python",
   "pygments_lexer": "ipython3",
   "version": "3.9.5"
  },
  "orig_nbformat": 4
 },
 "nbformat": 4,
 "nbformat_minor": 2
}
