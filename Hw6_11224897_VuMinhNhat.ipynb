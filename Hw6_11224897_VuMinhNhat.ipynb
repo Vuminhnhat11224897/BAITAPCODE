{
 "cells": [
  {
   "cell_type": "markdown",
   "metadata": {},
   "source": [
    "### Full name : Vũ Minh Nhật\n",
    "### Student ID : 11224897\n",
    "### Class: DSEB 64A\n"
   ]
  },
  {
   "cell_type": "code",
   "execution_count": 22,
   "metadata": {},
   "outputs": [
    {
     "name": "stdout",
     "output_type": "stream",
     "text": [
      "sihT si a elpmas .ecnetnes\n"
     ]
    }
   ],
   "source": [
    "#BAI1\n",
    "import re\n",
    "\n",
    "def revesrse_word(text):\n",
    "    return re.sub(r\"\\w+\\.|\\w+\" , lambda x : x.group(0)[::-1], text )\n",
    "\n",
    "s = input()\n",
    "print(revesrse_word(s))\n"
   ]
  },
  {
   "cell_type": "code",
   "execution_count": 52,
   "metadata": {},
   "outputs": [
    {
     "name": "stdout",
     "output_type": "stream",
     "text": [
      "Total Amount: $ 198.96\n"
     ]
    }
   ],
   "source": [
    "#BAI2\n",
    "bill = \"\"\"\n",
    "Product     Quantity    Total Price\n",
    "-----------------------------------------\n",
    "Shirt           3           $77.97\n",
    "Jeans           2           $71.00\n",
    "Sneakers        1           $49.99\n",
    "-----------------------------------------\n",
    "\"\"\"\n",
    "\n",
    "def caculate(text):\n",
    "    a = re.findall(r\"\\$\\d+\\.\\d+\", text)\n",
    "    for k in range(len(a)):\n",
    "        a[k] = float(re.sub(\"\\$\", '', a[k]))\n",
    "    return sum(a)\n",
    "\n",
    "print(\"Total Amount: $\", caculate(bill))\n"
   ]
  },
  {
   "cell_type": "code",
   "execution_count": 17,
   "metadata": {},
   "outputs": [
    {
     "name": "stdout",
     "output_type": "stream",
     "text": [
      "1\n"
     ]
    }
   ],
   "source": [
    "#BAI3\n",
    "\n",
    "import re\n",
    "\n",
    "def is_valid_email(email):\n",
    "  pattern = r\"^[\\d]*@[A-Za-z0-9]+\\.[A-Za-z0-9.]+$\"\n",
    "  return re.match(pattern, email) is not None\n",
    "\n",
    "email_list = ['john.doe@example.com', 'jane_doe@sub.example.co.uk', 'invalid_email', 'user@.com', 'admin@123.45.678.90', 'alice.smith@gmail.com', 'james.wilson@company.org', 'invalid.email@', 'user@domain', 'name.lastname@example.co.uk', 'john.doe@company.com', '12345@example.com', 'user@invalid..com', 'user@com', 'name.lastname@company.co.uk', 'user@domain@company.com', 'user@company..com', 'user@domain@.com', 'user@company.com@example.co.uk', 'user@domain@com@example.co.uk']\n",
    "\n",
    "valid_emails = 0\n",
    "for email in email_list:\n",
    "  if is_valid_email(email):\n",
    "    valid_emails += 1\n",
    "\n",
    "print(valid_emails)"
   ]
  },
  {
   "cell_type": "code",
   "execution_count": 62,
   "metadata": {},
   "outputs": [
    {
     "name": "stdout",
     "output_type": "stream",
     "text": [
      "6\n",
      "6\n"
     ]
    }
   ],
   "source": [
    "#BAI4\n",
    "\n",
    "def gcd(a, b):\n",
    "    if b == 0: return a\n",
    "    return gcd(b, a % b)\n",
    "\n",
    "def gcd1(a, b):\n",
    "    while b != 0 :\n",
    "        c = a\n",
    "        a = b\n",
    "        b = c % b\n",
    "    return a\n",
    "\n",
    "a, b = map(int, input().split())\n",
    "print(gcd(a, b))\n",
    "print(gcd1(a, b))"
   ]
  },
  {
   "cell_type": "code",
   "execution_count": 16,
   "metadata": {},
   "outputs": [
    {
     "name": "stdout",
     "output_type": "stream",
     "text": [
      "12 42\n",
      "(-3, 1)\n"
     ]
    }
   ],
   "source": [
    "#BAI5\n",
    "def gcd(a, b):\n",
    "    if b == 0: return a\n",
    "    return gcd(b, a % b)\n",
    "\n",
    "def diophantine(a, b, c):\n",
    "    m = a\n",
    "    xa = 1\n",
    "    ya = 0\n",
    "    n = b\n",
    "    xb = 0\n",
    "    yb = 1\n",
    "    if c % gcd(a, b) != 0:\n",
    "        return \n",
    "    while n != 0:\n",
    "        q = m // n\n",
    "        r =  m - q * n\n",
    "        xr = xa - q * xb\n",
    "        yr = ya - q * yb\n",
    "        m = n\n",
    "        xa = xb\n",
    "        ya = yb\n",
    "        n = r\n",
    "        xb = xr\n",
    "        yb = yr\n",
    "    return int(xa * (c / gcd(a, b))), int(ya * (c / gcd(a, b)))\n",
    "\n",
    "a, b = map(int, input().split())\n",
    "print(a, b)\n",
    "print(diophantine(a, b, gcd(a, b)))"
   ]
  },
  {
   "cell_type": "code",
   "execution_count": 15,
   "metadata": {},
   "outputs": [
    {
     "name": "stdout",
     "output_type": "stream",
     "text": [
      "51\n",
      "YES\n"
     ]
    }
   ],
   "source": [
    "#BAI6\n",
    "def check_prime(a):\n",
    "    if a < 2 :\n",
    "        return False\n",
    "    if a == 2:\n",
    "        return True\n",
    "    for i in range(2, int(a ** 0.5) + 1):\n",
    "        if a % i == 0:\n",
    "            return False\n",
    "    return True\n",
    "\n",
    "def checkk(a):\n",
    "    for i in range(2, int(a ** 0.5) + 1):\n",
    "        if check_prime(i) and a % i == 0:\n",
    "            if check_prime(a / i):\n",
    "                return True\n",
    "    return False\n",
    "\n",
    "def printt(a):\n",
    "    print(a)\n",
    "    if checkk(a): \n",
    "        print(\"YES\")\n",
    "        return\n",
    "    print(\"NO\")\n",
    "\n",
    "a = int(input()) \n",
    "printt(a)"
   ]
  },
  {
   "cell_type": "code",
   "execution_count": 15,
   "metadata": {},
   "outputs": [
    {
     "name": "stdout",
     "output_type": "stream",
     "text": [
      "[6, 3, 10, 9, 0, 7, 8, 5, 2, 1, 4]\n"
     ]
    }
   ],
   "source": [
    "#BAI7\n",
    "import time\n",
    "\n",
    "def swap(a, b):\n",
    "    c = a\n",
    "    a = b\n",
    "    b = c\n",
    "    return a, b\n",
    "\n",
    "def rand(i, n):\n",
    "    s = int(time.time())\n",
    "    if i == 0 : return s % n\n",
    "    return (7 * rand(i - 1, n) + 1) % n\n",
    "\n",
    "def shuffle(b, n):\n",
    "    for i in range(n + 1):\n",
    "        k = rand(i, n)\n",
    "        b[i], b[k] = swap(b[i], b[k])\n",
    "\n",
    "n = int(input())\n",
    "a = [x for x in range(n + 1)]\n",
    "shuffle(a, n)\n",
    "print(a)\n"
   ]
  },
  {
   "cell_type": "code",
   "execution_count": null,
   "metadata": {},
   "outputs": [],
   "source": []
  }
 ],
 "metadata": {
  "kernelspec": {
   "display_name": "Python 3",
   "language": "python",
   "name": "python3"
  },
  "language_info": {
   "codemirror_mode": {
    "name": "ipython",
    "version": 3
   },
   "file_extension": ".py",
   "mimetype": "text/x-python",
   "name": "python",
   "nbconvert_exporter": "python",
   "pygments_lexer": "ipython3",
   "version": "3.9.5"
  },
  "orig_nbformat": 4
 },
 "nbformat": 4,
 "nbformat_minor": 2
}
