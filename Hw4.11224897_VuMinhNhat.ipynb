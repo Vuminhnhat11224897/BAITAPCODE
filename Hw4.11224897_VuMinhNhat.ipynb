{
 "cells": [
  {
   "cell_type": "code",
   "execution_count": 36,
   "metadata": {},
   "outputs": [
    {
     "name": "stdout",
     "output_type": "stream",
     "text": [
      "7\n",
      "DataminingisarelatedfieldofstudyfocusingonexploratorydataanalysisthroughunsupervisedlearningInitsapplicationacrossbusinessproblemsmachinelearningisalsoreferredtoaspredictiveanalytics\n",
      "Số từ ở câu 1 là : 182\n",
      "DataminingisarelatedfieldofstudyfocusingonexploratorydataanalysisthroughunsupervisedlearningInitsapplicationacrossbusinessproblemsmachinelearningisalsoreferredtoaspredictiveanalytics\n",
      "Số từ ở câu 2 là : 182\n",
      "DataminingisarelatedfieldofstudyfocusingonexploratorydataanalysisthroughunsupervisedlearningInitsapplicationacrossbusinessproblemsmachinelearningisalsoreferredtoaspredictiveanalytics\n",
      "Số từ ở câu 3 là : 182\n",
      "DataminingisarelatedfieldofstudyfocusingonexploratorydataanalysisthroughunsupervisedlearningInitsapplicationacrossbusinessproblemsmachinelearningisalsoreferredtoaspredictiveanalytics\n",
      "Số từ ở câu 4 là : 182\n",
      "DataminingisarelatedfieldofstudyfocusingonexploratorydataanalysisthroughunsupervisedlearningInitsapplicationacrossbusinessproblemsmachinelearningisalsoreferredtoaspredictiveanalytics\n",
      "Số từ ở câu 5 là : 182\n",
      "DataminingisarelatedfieldofstudyfocusingonexploratorydataanalysisthroughunsupervisedlearningInitsapplicationacrossbusinessproblemsmachinelearningisalsoreferredtoaspredictiveanalytics\n",
      "Số từ ở câu 6 là : 182\n",
      "DataminingisarelatedfieldofstudyfocusingonexploratorydataanalysisthroughunsupervisedlearningInitsapplicationacrossbusinessproblemsmachinelearningisalsoreferredtoaspredictiveanalytics\n",
      "Số từ ở câu 7 là : 182\n",
      "['Machine/learning///ML//is/the/study/of///computer/algorithms/that/improve/automatically/through//experience', '/It/is/seen/as/a/subset/of/artificial/intelligence', '/Machine/learning/algorithms/build/a/mathematical/model/based/on/sample/data//known/as//training/data///in/order/to/make/predictions/or/decisions/without/being/explicitly/programmed/to/do/so', '/Machine//learning//algorithms/are/used/in/a/wide/variety/of/applications//such/as/email/filtering/and/computer///vision//where/it/is/difficult/or/infeasible/to/develop/conventional/algorithms/to/perform/the/needed/tasks', '/Machine//learning/is/closely/related/to/computational//statistics//which/focuses/on/making/predictions//using/computers', '/The/study/of/mathematical/optimization/delivers/methods//theory/and/application/domains/to/the///field//of/machine/learning', '/Data/mining/is/a/related/field/of/study//focusing/on/exploratory/data/analysis/through/unsupervised/learning/In/its/application/across/business/problems//machine/learning/is/also/referred/to/as/predictive/analytics', '']\n"
     ]
    }
   ],
   "source": [
    "import re\n",
    "pattern = r'[\\W]'\n",
    "a = input().split('.')\n",
    "print(len(a) - 1)\n",
    "for i in range(0, 7):\n",
    "    a[i] = re.sub(pattern, '/', a[i])\n",
    "    print(j)\n",
    "    print(\"Số từ ở câu\", i + 1,  \"là :\", len(j))\n",
    "\n",
    "print(a)\n"
   ]
  },
  {
   "cell_type": "code",
   "execution_count": null,
   "metadata": {},
   "outputs": [],
   "source": []
  }
 ],
 "metadata": {
  "kernelspec": {
   "display_name": "Python 3",
   "language": "python",
   "name": "python3"
  },
  "language_info": {
   "codemirror_mode": {
    "name": "ipython",
    "version": 3
   },
   "file_extension": ".py",
   "mimetype": "text/x-python",
   "name": "python",
   "nbconvert_exporter": "python",
   "pygments_lexer": "ipython3",
   "version": "3.9.5"
  },
  "orig_nbformat": 4
 },
 "nbformat": 4,
 "nbformat_minor": 2
}
