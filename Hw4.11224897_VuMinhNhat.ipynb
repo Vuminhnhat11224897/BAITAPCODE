{
 "cells": [
  {
   "cell_type": "markdown",
   "metadata": {},
   "source": [
    "### Họ và Tên : Vũ Minh Nhật\n",
    "### Lớp : DSEB 64A\n",
    "### ID : 11224897"
   ]
  },
  {
   "cell_type": "markdown",
   "metadata": {},
   "source": [
    "### Bai1\n"
   ]
  },
  {
   "cell_type": "code",
   "execution_count": 48,
   "metadata": {},
   "outputs": [
    {
     "name": "stdout",
     "output_type": "stream",
     "text": [
      "số câu là : 7\n",
      "\n",
      "Số từ ở câu 1 là : 14\n",
      "Số từ ở câu 2 là : 9\n",
      "Số từ ở câu 3 là : 29\n",
      "Số từ ở câu 4 là : 33\n",
      "Số từ ở câu 5 là : 15\n",
      "Số từ ở câu 6 là : 17\n",
      "Số từ ở câu 7 là : 31\n",
      "\n",
      "Tần suất :\n",
      "{'data': 4, 'machine': 6, 'learning': 7, 'mining': 1, 'analysis': 1, 'unsupervised': 1, 'business': 1, 'optimization': 1, 'model': 1} \n",
      "\n",
      "data : thường xuất hiện đầu câu\n",
      "machine : thường xuất hiện cuối câu\n",
      "learning : thường xuất hiện cuối câu\n",
      "mining : thường xuất hiện đầu câu\n",
      "analysis : thường xuất hiện đầu câu\n",
      "unsupervised : thường xuất hiện đầu câu\n",
      "business : thường xuất hiện cuối câu\n",
      "optimization : thường xuất hiện cuối câu\n",
      "model : thường xuất hiện cuối câu\n"
     ]
    }
   ],
   "source": [
    "#a\n",
    "import re\n",
    "data = ['data', 'machine', 'learning', 'mining', 'analysis', 'unsupervised', 'business', 'optimization', 'model']\n",
    "freq = {x : 0 for x in data}\n",
    "usulbe = {y : 0 for y in data}\n",
    "usulen = {z : 0 for z in data}\n",
    "pattern = r'[\\W]'\n",
    "text = input()\n",
    "text = text.lower()\n",
    "a = text.split('.')\n",
    "print('số câu là :', len(a) - 1)\n",
    "print('')\n",
    "for i in range(0, 7):\n",
    "    a[i] = re.sub(r'[^\\w\\s]', '', a[i])\n",
    "    j = a[i].split(' ')\n",
    "    k = [x for x in j if x]\n",
    "    mid = len(k) // 2\n",
    "    begin = set(k[:mid])\n",
    "    end = set(k[mid:])\n",
    "    #print(k)\n",
    "    for t in k :\n",
    "        if t in data :\n",
    "            freq[t] += 1 \n",
    "    print(\"Số từ ở câu\", i + 1,  \"là :\", len(k))\n",
    "#b\n",
    "print('\\nTần suất :')\n",
    "print(freq, '\\n')\n",
    "for i in begin :\n",
    "    if i in data:\n",
    "        usulbe[i] += 1\n",
    "for i in end :\n",
    "    if i in data :\n",
    "        usulen[i] += 1\n",
    "for k in data :\n",
    "    if usulbe[k] > usulen[k]:\n",
    "        print(k, ': thường xuất hiện đầu câu')\n",
    "    else : print(k, ': thường xuất hiện cuối câu')"
   ]
  },
  {
   "cell_type": "markdown",
   "metadata": {},
   "source": [
    "### BAI2"
   ]
  },
  {
   "cell_type": "code",
   "execution_count": 16,
   "metadata": {},
   "outputs": [
    {
     "name": "stdout",
     "output_type": "stream",
     "text": [
      "mười hai\n"
     ]
    }
   ],
   "source": [
    "m = 'Y'\n",
    "đầu = {1 : 'mốt', 2 : 'hai', 3 : 'ba', 4 : 'bốn', 5 : 'lăm', 6 : 'sáu', 7 : 'bảy', 8 : 'tám', 9 : 'chín'}\n",
    "\n",
    "while m[0] != 'E' and m[0] != 'e':\n",
    "    m = input()\n",
    "    if len(m) != 2 or m[0] == 0:\n",
    "        if m[0] == 'E' or m[0] == 'e': continue\n",
    "        print('Nhập cmn lại đi')\n",
    "        continue\n",
    "    else : \n",
    "        if int(m) < 20:\n",
    "            if int(m) == 10 : print('mười')\n",
    "            elif int(m) == 11: print('mười một')\n",
    "            else: print('mười ' + đầu[int(m) % 10])\n",
    "            continue\n",
    "        else:\n",
    "            i = int(m[0])\n",
    "            j = int(m[1])\n",
    "            if j == 0: print(đầu[i] + ' mươi')\n",
    "            else : print(đầu[i], 'mươi', đầu[j])\n",
    "\n",
    "    \n"
   ]
  },
  {
   "cell_type": "markdown",
   "metadata": {},
   "source": [
    "### BAI3"
   ]
  },
  {
   "cell_type": "code",
   "execution_count": 15,
   "metadata": {},
   "outputs": [
    {
     "name": "stdout",
     "output_type": "stream",
     "text": [
      "Số nguyên tố thứ 1 là: 2\n"
     ]
    }
   ],
   "source": [
    "n = int(input(\"Nhập số nguyên dương n: \"))\n",
    "\n",
    "i = 2\n",
    "count = 0\n",
    "while True:\n",
    "    Flag = True\n",
    "    for j in range(2, i):\n",
    "        if i % j == 0:\n",
    "            Flag = False\n",
    "            break\n",
    "    if Flag:\n",
    "        count += 1\n",
    "        if count == n:\n",
    "            print(f\"Số nguyên tố thứ {n} là: {i}\")\n",
    "            break\n",
    "    i += 1"
   ]
  },
  {
   "cell_type": "markdown",
   "metadata": {},
   "source": [
    "### BAI4\n"
   ]
  },
  {
   "cell_type": "code",
   "execution_count": 25,
   "metadata": {},
   "outputs": [
    {
     "name": "stdout",
     "output_type": "stream",
     "text": [
      "6\n"
     ]
    }
   ],
   "source": [
    "a = int(input())\n",
    "b = int(input())\n",
    "m1 = a\n",
    "m2 = b\n",
    "while b != 0:\n",
    "    c = b\n",
    "    b = a % b \n",
    "    a = c\n",
    "print(a)"
   ]
  },
  {
   "cell_type": "markdown",
   "metadata": {},
   "source": [
    "### BAI5"
   ]
  },
  {
   "cell_type": "code",
   "execution_count": 29,
   "metadata": {},
   "outputs": [
    {
     "name": "stdout",
     "output_type": "stream",
     "text": [
      "36.0\n"
     ]
    }
   ],
   "source": [
    "a = int(input())\n",
    "b = int(input())\n",
    "m1 = a\n",
    "m2 = b\n",
    "while b != 0:\n",
    "    c = b\n",
    "    b = a % b \n",
    "    a = c\n",
    "print(m1 * m2 / a)"
   ]
  },
  {
   "cell_type": "markdown",
   "metadata": {},
   "source": [
    "### BAI6"
   ]
  },
  {
   "cell_type": "code",
   "execution_count": 39,
   "metadata": {},
   "outputs": [
    {
     "name": "stdout",
     "output_type": "stream",
     "text": [
      "Amstrong number\n"
     ]
    }
   ],
   "source": [
    "n = input()\n",
    "k = len(n)\n",
    "n = int(n)\n",
    "p = n\n",
    "sum = 0\n",
    "while n != 0:\n",
    "    sum += (n % 10) ** k\n",
    "    n = n // 10\n",
    "#print(sum)\n",
    "if sum == p : print(\"Amstrong number\") \n",
    "else : print('Không phải')"
   ]
  },
  {
   "cell_type": "markdown",
   "metadata": {},
   "source": [
    "### BAI7\n"
   ]
  },
  {
   "cell_type": "code",
   "execution_count": 2,
   "metadata": {},
   "outputs": [
    {
     "name": "stdout",
     "output_type": "stream",
     "text": [
      "An:\n",
      "- beef, large, thick: 1\n",
      "- beef, large, thin: 1\n",
      "- beef, medium, thick: 1\n",
      "- beef, small, thick: 1\n",
      "- cheese, medium, thin: 1\n",
      "- cheese, small, thick: 1\n",
      "- cheese, small, thin: 1\n",
      "- chicken, large, thin: 1\n",
      "- chorio, large, thick: 2\n",
      "- chorio, large, thin: 1\n",
      "- chorio, small, thick: 1\n",
      "- chorio, small, thin: 1\n",
      "- pineaple, medium, thin: 2\n",
      "Hoa:\n",
      "- beef, medium, thin: 1\n",
      "- beef, small, thick: 1\n",
      "- cheese, large, thick: 1\n",
      "- cheese, medium, thin: 1\n",
      "- cheese, small, thick: 1\n",
      "- chicken, large, thin: 1\n",
      "- chicken, medium, thick: 3\n",
      "- chicken, medium, thin: 1\n",
      "- chicken, small, thick: 1\n",
      "- chicken, small, thin: 1\n",
      "- chorio, large, thin: 1\n",
      "- chorio, medium, thick: 1\n",
      "- pineaple, large, thin: 1\n",
      "- pineaple, medium, thick: 1\n",
      "Linh:\n",
      "- beef, medium, thin: 1\n",
      "- beef, small, thick: 1\n",
      "- chicken, large, thick: 1\n",
      "- chicken, small, thick: 1\n",
      "- chicken, small, thin: 2\n",
      "- chorio, large, thin: 4\n",
      "- chorio, medium, thick: 1\n",
      "- chorio, small, thick: 1\n",
      "- chorio, small, thin: 1\n",
      "- pineaple, small, thick: 1\n",
      "- pineaple, small, thin: 2\n",
      "Ly:\n",
      "- beef, large, thin: 3\n",
      "- beef, medium, thick: 1\n",
      "- beef, medium, thin: 1\n",
      "- cheese, large, thin: 1\n",
      "- cheese, medium, thin: 1\n",
      "- chicken, large, thick: 1\n",
      "- chicken, medium, thin: 1\n",
      "- chicken, small, thin: 1\n",
      "- chorio, medium, thick: 2\n",
      "- chorio, small, thick: 2\n",
      "- pineaple, large, thick: 1\n",
      "- pineaple, medium, thin: 1\n",
      "- pineaple, small, thick: 1\n",
      "Mai:\n",
      "- beef, medium, thick: 1\n",
      "- beef, small, thick: 1\n",
      "- cheese, large, thick: 1\n",
      "- cheese, large, thin: 1\n",
      "- cheese, small, thick: 2\n",
      "- cheese, small, thin: 1\n",
      "- chicken, medium, thick: 2\n",
      "- chorio, large, thick: 1\n",
      "- chorio, medium, thick: 2\n",
      "- chorio, small, thick: 1\n",
      "- chorio, small, thin: 1\n",
      "- pineaple, large, thick: 2\n",
      "- pineaple, large, thin: 1\n",
      "Nam:\n",
      "- beef, large, thick: 2\n",
      "- beef, small, thick: 2\n",
      "- cheese, small, thin: 1\n",
      "- chicken, large, thick: 1\n",
      "- chicken, large, thin: 1\n",
      "- chicken, medium, thick: 1\n",
      "- chicken, small, thin: 2\n",
      "- chorio, large, thin: 1\n",
      "- chorio, medium, thin: 1\n",
      "- chorio, small, thick: 1\n",
      "- chorio, small, thin: 2\n",
      "- pineaple, medium, thick: 1\n",
      "- pineaple, small, thick: 3\n",
      "Hết GÀ rồi  An xin hãy đổi sang thứ khác\n",
      "Hết GÀ rồi  Hoa xin hãy đổi sang thứ khác\n",
      "Hết GÀ rồi  Hoa xin hãy đổi sang thứ khác\n"
     ]
    }
   ],
   "source": [
    "import random\n",
    "random.seed(20)\n",
    "names = ['An', 'Ly', 'Nam', 'Mai', 'Hoa', 'Linh']\n",
    "pizza_toppings = ['chicken', 'chorio', 'beef', 'cheese', 'pineaple']\n",
    "sizes = ['small', 'medium', 'large']\n",
    "cake_bases = ['thick', 'thin']\n",
    "number_orders = []\n",
    "monday_orders = []\n",
    "monday_orders1 = []\n",
    "for _ in range(100):\n",
    "    i = random.randrange(len(names))\n",
    "    j = random.randrange(len(pizza_toppings))\n",
    "    k = random.randrange(len(sizes))\n",
    "    h = random.randrange(len(cake_bases))\n",
    "    monday_orders.append([names[i], pizza_toppings[j], sizes[k], cake_bases[h], 1])\n",
    "    monday_orders1.append([names[i], pizza_toppings[j], sizes[k], cake_bases[h], 1])\n",
    "#monday_orders.sort()\n",
    "#print(monday_orders)\n",
    "#monday_orders1 = monday_orders\n",
    "#print(monday_order1)\n",
    "fl = [False for x in range(100)]\n",
    "for i in range(100) :\n",
    "    if fl[i] == True: continue\n",
    "    fl[i] = True\n",
    "    for j in range(100) :\n",
    "        if monday_orders[i][0] == monday_orders[j][0] and fl[j] == False:\n",
    "            if monday_orders[i][1] == monday_orders[j][1]:\n",
    "                if monday_orders[i][2] == monday_orders[j][2]:\n",
    "                    if monday_orders[i][3] == monday_orders[j][3]:\n",
    "                        monday_orders[i][4] += 1\n",
    "                        fl[j]  = True\n",
    "                        monday_orders[j][4] = 0\n",
    "\n",
    "for i in monday_orders :\n",
    "    if i[4] != 0:\n",
    "        number_orders.append(i)\n",
    "number_orders.sort()\n",
    "#print(number_orders)\n",
    "names.sort()\n",
    "#sum = 0\n",
    "for k in names :\n",
    "    print(f\"{k}:\") \n",
    "    for i in number_orders :\n",
    "        if i[0] == k:\n",
    "            print(f\"- {i[1]}, {i[2]}, {i[3]}: {i[4]}\")\n",
    "            #sum += i[4]\n",
    "#print(sum)\n",
    "#b\n",
    "#print(monday_order1)\n",
    "div = 20\n",
    "for k in monday_orders1:\n",
    "    #print(k)\n",
    "    if k[1] == 'chicken' and div >= 1:\n",
    "        div -= k[4]\n",
    "        #print(k[4])\n",
    "        #print(\"Đơn hàng của\", k[0], \"đã nhận\")\n",
    "    if k[1] == 'chicken' and div == 0:\n",
    "        print('Hết GÀ rồi ', k[0], 'xin hãy đổi sang thứ khác')"
   ]
  },
  {
   "cell_type": "markdown",
   "metadata": {},
   "source": [
    "### BAI8"
   ]
  },
  {
   "cell_type": "code",
   "execution_count": 3,
   "metadata": {},
   "outputs": [
    {
     "name": "stdout",
     "output_type": "stream",
     "text": [
      "An:\n",
      "- beef, large, thick: 1\n",
      "- beef, large, thin: 1\n",
      "- beef, medium, thick: 1\n",
      "- beef, small, thick: 1\n",
      "- cheese, medium, thin: 1\n",
      "- cheese, small, thick: 1\n",
      "- cheese, small, thin: 1\n",
      "- chicken, large, thin: 1\n",
      "- chorio, large, thick: 2\n",
      "- chorio, large, thin: 1\n",
      "- chorio, small, thick: 1\n",
      "- chorio, small, thin: 1\n",
      "- pineaple, medium, thin: 2\n",
      "Hoa:\n",
      "- beef, medium, thin: 1\n",
      "- beef, small, thick: 1\n",
      "- cheese, large, thick: 1\n",
      "- cheese, medium, thin: 1\n",
      "- cheese, small, thick: 1\n",
      "- chicken, large, thin: 1\n",
      "- chicken, medium, thick: 3\n",
      "- chicken, medium, thin: 1\n",
      "- chicken, small, thick: 1\n",
      "- chicken, small, thin: 1\n",
      "- chorio, large, thin: 1\n",
      "- chorio, medium, thick: 1\n",
      "- pineaple, large, thin: 1\n",
      "- pineaple, medium, thick: 1\n",
      "Linh:\n",
      "- beef, medium, thin: 1\n",
      "- beef, small, thick: 1\n",
      "- chicken, large, thick: 1\n",
      "- chicken, small, thick: 1\n",
      "- chicken, small, thin: 2\n",
      "- chorio, large, thin: 4\n",
      "- chorio, medium, thick: 1\n",
      "- chorio, small, thick: 1\n",
      "- chorio, small, thin: 1\n",
      "- pineaple, small, thick: 1\n",
      "- pineaple, small, thin: 2\n",
      "Ly:\n",
      "- beef, large, thin: 3\n",
      "- beef, medium, thick: 1\n",
      "- beef, medium, thin: 1\n",
      "- cheese, large, thin: 1\n",
      "- cheese, medium, thin: 1\n",
      "- chicken, large, thick: 1\n",
      "- chicken, medium, thin: 1\n",
      "- chicken, small, thin: 1\n",
      "- chorio, medium, thick: 2\n",
      "- chorio, small, thick: 2\n",
      "- pineaple, large, thick: 1\n",
      "- pineaple, medium, thin: 1\n",
      "- pineaple, small, thick: 1\n",
      "Mai:\n",
      "- beef, medium, thick: 1\n",
      "- beef, small, thick: 1\n",
      "- cheese, large, thick: 1\n",
      "- cheese, large, thin: 1\n",
      "- cheese, small, thick: 2\n",
      "- cheese, small, thin: 1\n",
      "- chicken, medium, thick: 2\n",
      "- chorio, large, thick: 1\n",
      "- chorio, medium, thick: 2\n",
      "- chorio, small, thick: 1\n",
      "- chorio, small, thin: 1\n",
      "- pineaple, large, thick: 2\n",
      "- pineaple, large, thin: 1\n",
      "Nam:\n",
      "- beef, large, thick: 2\n",
      "- beef, small, thick: 2\n",
      "- cheese, small, thin: 1\n",
      "- chicken, large, thick: 1\n",
      "- chicken, large, thin: 1\n",
      "- chicken, medium, thick: 1\n",
      "- chicken, small, thin: 2\n",
      "- chorio, large, thin: 1\n",
      "- chorio, medium, thin: 1\n",
      "- chorio, small, thick: 1\n",
      "- chorio, small, thin: 2\n",
      "- pineaple, medium, thick: 1\n",
      "- pineaple, small, thick: 3\n",
      "Hết GÀ rồi  An xin hãy đổi sang thứ khác\n",
      "Hết GÀ rồi  Hoa xin hãy đổi sang thứ khác\n",
      "Hết GÀ rồi  Hoa xin hãy đổi sang thứ khác\n"
     ]
    }
   ],
   "source": [
    "import random\n",
    "random.seed(20)\n",
    "names = ['An', 'Ly', 'Nam', 'Mai', 'Hoa', 'Linh']\n",
    "pizza_toppings = ['chicken', 'chorio', 'beef', 'cheese', 'pineaple']\n",
    "sizes = ['small', 'medium', 'large']\n",
    "cake_bases = ['thick', 'thin']\n",
    "number_orders = []\n",
    "monday_orders = []\n",
    "monday_orders1 = []\n",
    "for _ in range(100):\n",
    "    i = random.randrange(len(names))\n",
    "    j = random.randrange(len(pizza_toppings))\n",
    "    k = random.randrange(len(sizes))\n",
    "    h = random.randrange(len(cake_bases))\n",
    "    monday_orders.append([names[i], pizza_toppings[j], sizes[k], cake_bases[h], 1])\n",
    "    monday_orders1.append([names[i], pizza_toppings[j], sizes[k], cake_bases[h], 1])\n",
    "#monday_orders.sort()\n",
    "#print(monday_orders)\n",
    "#monday_orders1 = monday_orders\n",
    "#print(monday_order1)\n",
    "fl = [False for x in range(100)]\n",
    "for i in range(100) :\n",
    "    if fl[i] == True: continue\n",
    "    fl[i] = True\n",
    "    for j in range(100) :\n",
    "        if monday_orders[i][:4] == monday_orders[j][:4] and fl[j] == False:\n",
    "            monday_orders[i][4] += 1\n",
    "            fl[j]  = True\n",
    "            monday_orders[j][4] = 0\n",
    "\n",
    "for i in monday_orders :\n",
    "    if i[4] != 0:\n",
    "        number_orders.append(i)\n",
    "number_orders.sort()\n",
    "#print(number_orders)\n",
    "names.sort()\n",
    "#sum = 0\n",
    "for k in names :\n",
    "    print(f\"{k}:\") \n",
    "    for i in number_orders :\n",
    "        if i[0] == k:\n",
    "            print(f\"- {i[1]}, {i[2]}, {i[3]}: {i[4]}\")\n",
    "            #sum += i[4]\n",
    "#print(sum)\n",
    "#b\n",
    "#print(monday_order1)\n",
    "div = 20\n",
    "for k in monday_orders1:\n",
    "    #print(k)\n",
    "    if k[1] == 'chicken' and div >= 1:\n",
    "        div -= k[4]\n",
    "        #print(k[4])\n",
    "        #print(\"Đơn hàng của\", k[0], \"đã nhận\")\n",
    "    if k[1] == 'chicken' and div == 0:\n",
    "        print('Hết GÀ rồi ', k[0], 'xin hãy đổi sang thứ khác')"
   ]
  },
  {
   "cell_type": "code",
   "execution_count": null,
   "metadata": {},
   "outputs": [],
   "source": []
  }
 ],
 "metadata": {
  "kernelspec": {
   "display_name": "Python 3",
   "language": "python",
   "name": "python3"
  },
  "language_info": {
   "codemirror_mode": {
    "name": "ipython",
    "version": 3
   },
   "file_extension": ".py",
   "mimetype": "text/x-python",
   "name": "python",
   "nbconvert_exporter": "python",
   "pygments_lexer": "ipython3",
   "version": "3.9.5"
  },
  "orig_nbformat": 4
 },
 "nbformat": 4,
 "nbformat_minor": 2
}
